{
 "cells": [
  {
   "cell_type": "markdown",
   "id": "viral-singing",
   "metadata": {},
   "source": [
    "<b>Logistic Regression with Python</b>"
   ]
  },
  {
   "cell_type": "markdown",
   "id": "dominican-avenue",
   "metadata": {},
   "source": [
    "<b>Learning objects</b>\n",
    "- Understand Logistic Regression (LR) as a classification technique.\n",
    "- Perform Exploratory Data Analysis (EDA) on a dataset.\n",
    "- Clean and prepare a dataset for binary classification model-building.\n",
    "- Perform binary LR on a dataset to enhance understanding of the concept."
   ]
  },
  {
   "cell_type": "markdown",
   "id": "horizontal-cylinder",
   "metadata": {},
   "source": [
    "<b>Outline</b>\n",
    "- What is logistic regression?\n",
    "- Mathematical function of logistic regression.\n",
    "- EDA of the Pima Indians dataset.\n",
    "- Practical application of logistic regression on a dataset."
   ]
  },
  {
   "cell_type": "markdown",
   "id": "ecological-wound",
   "metadata": {},
   "source": [
    "<b>Introduction to Logistic Regression</b>\n",
    "- Classification is one of the most important areas of supervised machine learning (ML), and logistic regression is one of its basic methods.\n",
    "- Classification tries to predict in which class or category some entity belongs to, based on its features.\n",
    "- Briefly, LR is not applied for regression problems but instead for classification problems.\n",
    "- Binary LR models/predicts the probabilities for classification problems with two possible outcomes.\n",
    "- It is an extension of the linear regression model for classification problems.\n",
    "- The name ‘Regression’ indicates that a logistic function is applied to a linear combination of features to predict the outcome of a categorical dependent variable based on predictor variables.\n",
    "- The outputs of regression problems are continuous and largely unbounded outputs. \n",
    "- An everyday example is estimating the price of a house based on its features such as the number of bedrooms, number of bathrooms, size of plot and location within a city.\n",
    "- In contrast, classification problems have discrete and finite outputs which we call classes or categories.\n",
    "- For example, predicting if an individual is likely to develop diabetes or not based on physiological factors such blood pressure, weight and height.<p>\n",
    "    \n",
    "<b>Types of classification</b>    \n",
    "- Binary or binomial classification: only two classes to choose between (usually 0 and 1, True and False, success or failure, or positive and negative).\n",
    "- Multiclass or multinomial classification: three or more classes to choose from.<p>\n",
    "    \n",
    "<b>Types of Logistic Regression</b>\n",
    "- Binary logistic regression is the statistical technique used to predict the relationship between the dependent variable (y) and the independent variable (X). This is the most common type of LR (95% of all LR cases involve it).\n",
    "- It's what we will focus on in this 'train'.\n",
    "- Multinomial logistic regression is used when you have one categorical dependent variable with two or more unordered levels (i.e two or more discrete outcomes).\n",
    "- It is very similar to logistic regression except that here you can have more than two possible outcomes. \n",
    " \n",
    "\n",
    "<b>LR assumptions</b>\n",
    "- Binary LR requires the dependent variable to be binary/dichotomous.\n",
    "- No outliers should exist in the data.\n",
    "- There should be no high correlations (multicollinearity) among the predictors: this can be assessed by a correlation matrix among the predictors.\n",
    "- LR requires large sample sizes.\n"
   ]
  },
  {
   "cell_type": "markdown",
   "id": "detailed-beast",
   "metadata": {},
   "source": [
    "<b>Mathematics of LR</b>\n",
    "- The LR model uses the logistic function to squeeze the output of a linear equation between 0 and 1.\n",
    "- The logistic function, also called the sigmoid function, is represented mathematically as:<p>\n",
    "    \n",
    "$\\text{logistic}(\\eta) = \\frac{1}{1 + exp(-\\eta)}$\n",
    "    \n",
    "- Let's do some bit of coding to see the profile of a logistic function."
   ]
  },
  {
   "cell_type": "code",
   "execution_count": 1,
   "id": "artistic-template",
   "metadata": {},
   "outputs": [],
   "source": [
    "# Import some libraries we will use in the exercise.\n",
    "import numpy as np\n",
    "import pandas as pd\n",
    "import matplotlib.pyplot as plt \n",
    "import seaborn as sns"
   ]
  },
  {
   "cell_type": "code",
   "execution_count": 2,
   "id": "south-warning",
   "metadata": {},
   "outputs": [],
   "source": [
    "# Define a logistic function.\n",
    "def log_function(n):\n",
    "    values = 1 / (1 + np.exp(-n)) # Mathematical implementation of the logistic function.\n",
    "    return(values) # Return/store the result of the calculation"
   ]
  },
  {
   "cell_type": "code",
   "execution_count": 3,
   "id": "martial-personal",
   "metadata": {},
   "outputs": [
    {
     "data": {
      "text/plain": [
       "0.9820137900379085"
      ]
     },
     "execution_count": 3,
     "metadata": {},
     "output_type": "execute_result"
    }
   ],
   "source": [
    "# Example\n",
    "log_function(4)"
   ]
  },
  {
   "cell_type": "code",
   "execution_count": 4,
   "id": "played-canvas",
   "metadata": {},
   "outputs": [
    {
     "name": "stdout",
     "output_type": "stream",
     "text": [
      "[1.670142184809518e-05, 4.5397868702434395e-05, 0.00012339457598623172, 0.0003353501304664781, 0.0009110511944006454, 0.0024726231566347743, 0.0066928509242848554, 0.01798620996209156, 0.04742587317756678, 0.11920292202211755, 0.2689414213699951, 0.5, 0.7310585786300049, 0.8807970779778823, 0.9525741268224334, 0.9820137900379085, 0.9933071490757153, 0.9975273768433653, 0.9990889488055994, 0.9996646498695336, 0.9998766054240137, 0.9999546021312976]\n"
     ]
    }
   ],
   "source": [
    "# Store the variables we will use to plot our custom function.\n",
    "log_values = [] # Create empty list to hold the 'y-values'.\n",
    "num_list = np.arange(-11, 11, 1) # Container for 'x-values'\n",
    "for i in num_list:             # Loop through the x-values\n",
    "    log_values.append(log_function(i))  # Append the calculated values to the empty list\n",
    "print(log_values) # As a sanity check."
   ]
  },
  {
   "cell_type": "code",
   "execution_count": 5,
   "id": "blond-humidity",
   "metadata": {},
   "outputs": [
    {
     "data": {
      "image/png": "[encoded data removed]",
      "text/plain": [
       "<Figure size 720x360 with 1 Axes>"
      ]
     },
     "metadata": {
      "needs_background": "light"
     },
     "output_type": "display_data"
    }
   ],
   "source": [
    "# Plot the logistic/ 'S' function.\n",
    "plt.figure(figsize = (10, 5)) # Specify figure size.\n",
    "plt.scatter(num_list, log_values) # Plot the dependent against the independent.\n",
    "plt.xlabel('x', fontsize = 15)\n",
    "plt.ylabel('y', fontsize = 15)\n",
    "plt.title('Profile of a logistic function', fontsize = 15)\n",
    "plt.grid()# Insert a grid.\n",
    "plt.show()"
   ]
  },
  {
   "cell_type": "markdown",
   "id": "closing-standard",
   "metadata": {},
   "source": [
    "<b>Discussion</b>\n",
    "- The function gives an ‘S’ shaped curve that can take any real-valued number and map it into a value between 0 and 1.\n",
    "- If the curve goes to positive infinity, y predicted will become 1, and if the curve goes to negative infinity, y predicted will become 0.\n",
    "- The profile is symmetrical about x = 0.\n",
    "- At x = 0, y is valued at 0.5.\n",
    "- If the output of the sigmoid function is more than 0.5, we can classify the outcome as 1 or YES, and if it is less than 0.5, we can classify it as 0 or NO.\n",
    "- As an exercise, change the range to any other values and see how the profile stays constant or changes!"
   ]
  },
  {
   "cell_type": "markdown",
   "id": "general-senator",
   "metadata": {},
   "source": [
    "<b>Binary logistic regression on an actual dataset</b>\n",
    "- Binary LR will be performed on a real-life dataset.\n",
    "- The dataset is the 'Pima Indians'.\n",
    "- It can be found on the link https://www.kaggle.com/uciml/pima-indians-diabetes-database and other sources such as the url we will use here.<p>\n",
    "\n",
    "<b>Dataset description</b>\n",
    "- The data was initially collected by the National Institute of Diabetes and Digestive and Kidney Diseases. \n",
    "- The objective of the dataset is to diagnostically predict whether or not a patient has diabetes, based on certain diagnostic measurements-the predictors. \n",
    "- All patients are females of Pima Indian heritage.\n",
    "- They are of age 21 and above.\n",
    "- The datasets consists of several medical predictor variables and one target variable, Outcome. \n",
    "- The predictor variables include blood pressure, the body mass index (BMI), insulin level, age, and so on."
   ]
  },
  {
   "cell_type": "code",
   "execution_count": 6,
   "id": "deadly-metropolitan",
   "metadata": {},
   "outputs": [
    {
     "data": {
      "text/html": [
       "<div>\n",
       "<style scoped>\n",
       "    .dataframe tbody tr th:only-of-type {\n",
       "        vertical-align: middle;\n",
       "    }\n",
       "\n",
       "    .dataframe tbody tr th {\n",
       "        vertical-align: top;\n",
       "    }\n",
       "\n",
       "    .dataframe thead th {\n",
       "        text-align: right;\n",
       "    }\n",
       "</style>\n",
       "<table border=\"1\" class=\"dataframe\">\n",
       "  <thead>\n",
       "    <tr style=\"text-align: right;\">\n",
       "      <th></th>\n",
       "      <th>Pregnancies</th>\n",
       "      <th>Glucose</th>\n",
       "      <th>BloodPressure</th>\n",
       "      <th>SkinThickness</th>\n",
       "      <th>Insulin</th>\n",
       "      <th>BMI</th>\n",
       "      <th>DiabetesPedigreeFunction</th>\n",
       "      <th>Age</th>\n",
       "      <th>Outcome</th>\n",
       "    </tr>\n",
       "  </thead>\n",
       "  <tbody>\n",
       "    <tr>\n",
       "      <th>0</th>\n",
       "      <td>6</td>\n",
       "      <td>148</td>\n",
       "      <td>72</td>\n",
       "      <td>35</td>\n",
       "      <td>0</td>\n",
       "      <td>33.6</td>\n",
       "      <td>0.627</td>\n",
       "      <td>50</td>\n",
       "      <td>1</td>\n",
       "    </tr>\n",
       "    <tr>\n",
       "      <th>1</th>\n",
       "      <td>1</td>\n",
       "      <td>85</td>\n",
       "      <td>66</td>\n",
       "      <td>29</td>\n",
       "      <td>0</td>\n",
       "      <td>26.6</td>\n",
       "      <td>0.351</td>\n",
       "      <td>31</td>\n",
       "      <td>0</td>\n",
       "    </tr>\n",
       "    <tr>\n",
       "      <th>2</th>\n",
       "      <td>8</td>\n",
       "      <td>183</td>\n",
       "      <td>64</td>\n",
       "      <td>0</td>\n",
       "      <td>0</td>\n",
       "      <td>23.3</td>\n",
       "      <td>0.672</td>\n",
       "      <td>32</td>\n",
       "      <td>1</td>\n",
       "    </tr>\n",
       "    <tr>\n",
       "      <th>3</th>\n",
       "      <td>1</td>\n",
       "      <td>89</td>\n",
       "      <td>66</td>\n",
       "      <td>23</td>\n",
       "      <td>94</td>\n",
       "      <td>28.1</td>\n",
       "      <td>0.167</td>\n",
       "      <td>21</td>\n",
       "      <td>0</td>\n",
       "    </tr>\n",
       "    <tr>\n",
       "      <th>4</th>\n",
       "      <td>0</td>\n",
       "      <td>137</td>\n",
       "      <td>40</td>\n",
       "      <td>35</td>\n",
       "      <td>168</td>\n",
       "      <td>43.1</td>\n",
       "      <td>2.288</td>\n",
       "      <td>33</td>\n",
       "      <td>1</td>\n",
       "    </tr>\n",
       "  </tbody>\n",
       "</table>\n",
       "</div>"
      ],
      "text/plain": [
       "   Pregnancies  Glucose  BloodPressure  SkinThickness  Insulin   BMI  \\\n",
       "0            6      148             72             35        0  33.6   \n",
       "1            1       85             66             29        0  26.6   \n",
       "2            8      183             64              0        0  23.3   \n",
       "3            1       89             66             23       94  28.1   \n",
       "4            0      137             40             35      168  43.1   \n",
       "\n",
       "   DiabetesPedigreeFunction  Age  Outcome  \n",
       "0                     0.627   50        1  \n",
       "1                     0.351   31        0  \n",
       "2                     0.672   32        1  \n",
       "3                     0.167   21        0  \n",
       "4                     2.288   33        1  "
      ]
     },
     "execution_count": 6,
     "metadata": {},
     "output_type": "execute_result"
    }
   ],
   "source": [
    "# You can download the dataset to your drive and use it or access a url that contains the same dataset.\n",
    "url = 'https://raw.githubusercontent.com/npradaschnor/Pima-Indians-Diabetes-Dataset/master/diabetes.csv' # url access\n",
    "pima_df = pd.read_csv(url) # Create a Pandas dataframe.\n",
    "pima_df.head() # Check/view the first few rows of the dataframe."
   ]
  },
  {
   "cell_type": "code",
   "execution_count": 7,
   "id": "tender-nylon",
   "metadata": {},
   "outputs": [
    {
     "data": {
      "text/html": [
       "<div>\n",
       "<style scoped>\n",
       "    .dataframe tbody tr th:only-of-type {\n",
       "        vertical-align: middle;\n",
       "    }\n",
       "\n",
       "    .dataframe tbody tr th {\n",
       "        vertical-align: top;\n",
       "    }\n",
       "\n",
       "    .dataframe thead th {\n",
       "        text-align: right;\n",
       "    }\n",
       "</style>\n",
       "<table border=\"1\" class=\"dataframe\">\n",
       "  <thead>\n",
       "    <tr style=\"text-align: right;\">\n",
       "      <th></th>\n",
       "      <th>Pregnancies</th>\n",
       "      <th>Glucose</th>\n",
       "      <th>BloodPressure</th>\n",
       "      <th>SkinThickness</th>\n",
       "      <th>Insulin</th>\n",
       "      <th>BMI</th>\n",
       "      <th>DiabetesPedigreeFunction</th>\n",
       "      <th>Age</th>\n",
       "      <th>Outcome</th>\n",
       "    </tr>\n",
       "  </thead>\n",
       "  <tbody>\n",
       "    <tr>\n",
       "      <th>763</th>\n",
       "      <td>10</td>\n",
       "      <td>101</td>\n",
       "      <td>76</td>\n",
       "      <td>48</td>\n",
       "      <td>180</td>\n",
       "      <td>32.9</td>\n",
       "      <td>0.171</td>\n",
       "      <td>63</td>\n",
       "      <td>0</td>\n",
       "    </tr>\n",
       "    <tr>\n",
       "      <th>764</th>\n",
       "      <td>2</td>\n",
       "      <td>122</td>\n",
       "      <td>70</td>\n",
       "      <td>27</td>\n",
       "      <td>0</td>\n",
       "      <td>36.8</td>\n",
       "      <td>0.340</td>\n",
       "      <td>27</td>\n",
       "      <td>0</td>\n",
       "    </tr>\n",
       "    <tr>\n",
       "      <th>765</th>\n",
       "      <td>5</td>\n",
       "      <td>121</td>\n",
       "      <td>72</td>\n",
       "      <td>23</td>\n",
       "      <td>112</td>\n",
       "      <td>26.2</td>\n",
       "      <td>0.245</td>\n",
       "      <td>30</td>\n",
       "      <td>0</td>\n",
       "    </tr>\n",
       "    <tr>\n",
       "      <th>766</th>\n",
       "      <td>1</td>\n",
       "      <td>126</td>\n",
       "      <td>60</td>\n",
       "      <td>0</td>\n",
       "      <td>0</td>\n",
       "      <td>30.1</td>\n",
       "      <td>0.349</td>\n",
       "      <td>47</td>\n",
       "      <td>1</td>\n",
       "    </tr>\n",
       "    <tr>\n",
       "      <th>767</th>\n",
       "      <td>1</td>\n",
       "      <td>93</td>\n",
       "      <td>70</td>\n",
       "      <td>31</td>\n",
       "      <td>0</td>\n",
       "      <td>30.4</td>\n",
       "      <td>0.315</td>\n",
       "      <td>23</td>\n",
       "      <td>0</td>\n",
       "    </tr>\n",
       "  </tbody>\n",
       "</table>\n",
       "</div>"
      ],
      "text/plain": [
       "     Pregnancies  Glucose  BloodPressure  SkinThickness  Insulin   BMI  \\\n",
       "763           10      101             76             48      180  32.9   \n",
       "764            2      122             70             27        0  36.8   \n",
       "765            5      121             72             23      112  26.2   \n",
       "766            1      126             60              0        0  30.1   \n",
       "767            1       93             70             31        0  30.4   \n",
       "\n",
       "     DiabetesPedigreeFunction  Age  Outcome  \n",
       "763                     0.171   63        0  \n",
       "764                     0.340   27        0  \n",
       "765                     0.245   30        0  \n",
       "766                     0.349   47        1  \n",
       "767                     0.315   23        0  "
      ]
     },
     "execution_count": 7,
     "metadata": {},
     "output_type": "execute_result"
    }
   ],
   "source": [
    "# You can check the last rows as well.\n",
    "pima_df.tail()"
   ]
  },
  {
   "cell_type": "markdown",
   "id": "theoretical-painting",
   "metadata": {},
   "source": [
    "- At a glance, the dataframe has 768 rows and 9 rows.\n",
    "- Remember Python uses zero indexing.\n",
    "- We can confirm our observations by producing a Pandas summary of the statistics."
   ]
  },
  {
   "cell_type": "code",
   "execution_count": 8,
   "id": "graduate-alabama",
   "metadata": {},
   "outputs": [
    {
     "data": {
      "text/html": [
       "<div>\n",
       "<style scoped>\n",
       "    .dataframe tbody tr th:only-of-type {\n",
       "        vertical-align: middle;\n",
       "    }\n",
       "\n",
       "    .dataframe tbody tr th {\n",
       "        vertical-align: top;\n",
       "    }\n",
       "\n",
       "    .dataframe thead th {\n",
       "        text-align: right;\n",
       "    }\n",
       "</style>\n",
       "<table border=\"1\" class=\"dataframe\">\n",
       "  <thead>\n",
       "    <tr style=\"text-align: right;\">\n",
       "      <th></th>\n",
       "      <th>Pregnancies</th>\n",
       "      <th>Glucose</th>\n",
       "      <th>BloodPressure</th>\n",
       "      <th>SkinThickness</th>\n",
       "      <th>Insulin</th>\n",
       "      <th>BMI</th>\n",
       "      <th>DiabetesPedigreeFunction</th>\n",
       "      <th>Age</th>\n",
       "      <th>Outcome</th>\n",
       "    </tr>\n",
       "  </thead>\n",
       "  <tbody>\n",
       "    <tr>\n",
       "      <th>count</th>\n",
       "      <td>768.000000</td>\n",
       "      <td>768.000000</td>\n",
       "      <td>768.000000</td>\n",
       "      <td>768.000000</td>\n",
       "      <td>768.000000</td>\n",
       "      <td>768.000000</td>\n",
       "      <td>768.000000</td>\n",
       "      <td>768.000000</td>\n",
       "      <td>768.000000</td>\n",
       "    </tr>\n",
       "    <tr>\n",
       "      <th>mean</th>\n",
       "      <td>3.845052</td>\n",
       "      <td>120.894531</td>\n",
       "      <td>69.105469</td>\n",
       "      <td>20.536458</td>\n",
       "      <td>79.799479</td>\n",
       "      <td>31.992578</td>\n",
       "      <td>0.471876</td>\n",
       "      <td>33.240885</td>\n",
       "      <td>0.348958</td>\n",
       "    </tr>\n",
       "    <tr>\n",
       "      <th>std</th>\n",
       "      <td>3.369578</td>\n",
       "      <td>31.972618</td>\n",
       "      <td>19.355807</td>\n",
       "      <td>15.952218</td>\n",
       "      <td>115.244002</td>\n",
       "      <td>7.884160</td>\n",
       "      <td>0.331329</td>\n",
       "      <td>11.760232</td>\n",
       "      <td>0.476951</td>\n",
       "    </tr>\n",
       "    <tr>\n",
       "      <th>min</th>\n",
       "      <td>0.000000</td>\n",
       "      <td>0.000000</td>\n",
       "      <td>0.000000</td>\n",
       "      <td>0.000000</td>\n",
       "      <td>0.000000</td>\n",
       "      <td>0.000000</td>\n",
       "      <td>0.078000</td>\n",
       "      <td>21.000000</td>\n",
       "      <td>0.000000</td>\n",
       "    </tr>\n",
       "    <tr>\n",
       "      <th>25%</th>\n",
       "      <td>1.000000</td>\n",
       "      <td>99.000000</td>\n",
       "      <td>62.000000</td>\n",
       "      <td>0.000000</td>\n",
       "      <td>0.000000</td>\n",
       "      <td>27.300000</td>\n",
       "      <td>0.243750</td>\n",
       "      <td>24.000000</td>\n",
       "      <td>0.000000</td>\n",
       "    </tr>\n",
       "    <tr>\n",
       "      <th>50%</th>\n",
       "      <td>3.000000</td>\n",
       "      <td>117.000000</td>\n",
       "      <td>72.000000</td>\n",
       "      <td>23.000000</td>\n",
       "      <td>30.500000</td>\n",
       "      <td>32.000000</td>\n",
       "      <td>0.372500</td>\n",
       "      <td>29.000000</td>\n",
       "      <td>0.000000</td>\n",
       "    </tr>\n",
       "    <tr>\n",
       "      <th>75%</th>\n",
       "      <td>6.000000</td>\n",
       "      <td>140.250000</td>\n",
       "      <td>80.000000</td>\n",
       "      <td>32.000000</td>\n",
       "      <td>127.250000</td>\n",
       "      <td>36.600000</td>\n",
       "      <td>0.626250</td>\n",
       "      <td>41.000000</td>\n",
       "      <td>1.000000</td>\n",
       "    </tr>\n",
       "    <tr>\n",
       "      <th>max</th>\n",
       "      <td>17.000000</td>\n",
       "      <td>199.000000</td>\n",
       "      <td>122.000000</td>\n",
       "      <td>99.000000</td>\n",
       "      <td>846.000000</td>\n",
       "      <td>67.100000</td>\n",
       "      <td>2.420000</td>\n",
       "      <td>81.000000</td>\n",
       "      <td>1.000000</td>\n",
       "    </tr>\n",
       "  </tbody>\n",
       "</table>\n",
       "</div>"
      ],
      "text/plain": [
       "       Pregnancies     Glucose  BloodPressure  SkinThickness     Insulin  \\\n",
       "count   768.000000  768.000000     768.000000     768.000000  768.000000   \n",
       "mean      3.845052  120.894531      69.105469      20.536458   79.799479   \n",
       "std       3.369578   31.972618      19.355807      15.952218  115.244002   \n",
       "min       0.000000    0.000000       0.000000       0.000000    0.000000   \n",
       "25%       1.000000   99.000000      62.000000       0.000000    0.000000   \n",
       "50%       3.000000  117.000000      72.000000      23.000000   30.500000   \n",
       "75%       6.000000  140.250000      80.000000      32.000000  127.250000   \n",
       "max      17.000000  199.000000     122.000000      99.000000  846.000000   \n",
       "\n",
       "              BMI  DiabetesPedigreeFunction         Age     Outcome  \n",
       "count  768.000000                768.000000  768.000000  768.000000  \n",
       "mean    31.992578                  0.471876   33.240885    0.348958  \n",
       "std      7.884160                  0.331329   11.760232    0.476951  \n",
       "min      0.000000                  0.078000   21.000000    0.000000  \n",
       "25%     27.300000                  0.243750   24.000000    0.000000  \n",
       "50%     32.000000                  0.372500   29.000000    0.000000  \n",
       "75%     36.600000                  0.626250   41.000000    1.000000  \n",
       "max     67.100000                  2.420000   81.000000    1.000000  "
      ]
     },
     "execution_count": 8,
     "metadata": {},
     "output_type": "execute_result"
    }
   ],
   "source": [
    "# Summary statistics.\n",
    "pima_df.describe()"
   ]
  },
  {
   "cell_type": "code",
   "execution_count": 9,
   "id": "decreased-bundle",
   "metadata": {},
   "outputs": [
    {
     "data": {
      "text/plain": [
       "(768, 9)"
      ]
     },
     "execution_count": 9,
     "metadata": {},
     "output_type": "execute_result"
    }
   ],
   "source": [
    "# Confirm the shape of dataframe (rows and columns).\n",
    "pima_df.shape"
   ]
  },
  {
   "cell_type": "code",
   "execution_count": 10,
   "id": "genuine-playback",
   "metadata": {},
   "outputs": [
    {
     "data": {
      "text/plain": [
       "Pregnancies                 0\n",
       "Glucose                     0\n",
       "BloodPressure               0\n",
       "SkinThickness               0\n",
       "Insulin                     0\n",
       "BMI                         0\n",
       "DiabetesPedigreeFunction    0\n",
       "Age                         0\n",
       "Outcome                     0\n",
       "dtype: int64"
      ]
     },
     "execution_count": 10,
     "metadata": {},
     "output_type": "execute_result"
    }
   ],
   "source": [
    "# Check for missing values.\n",
    "pima_df.isnull().sum()"
   ]
  },
  {
   "cell_type": "code",
   "execution_count": 11,
   "id": "saved-oriental",
   "metadata": {},
   "outputs": [
    {
     "name": "stdout",
     "output_type": "stream",
     "text": [
      "<class 'pandas.core.frame.DataFrame'>\n",
      "RangeIndex: 768 entries, 0 to 767\n",
      "Data columns (total 9 columns):\n",
      " #   Column                    Non-Null Count  Dtype  \n",
      "---  ------                    --------------  -----  \n",
      " 0   Pregnancies               768 non-null    int64  \n",
      " 1   Glucose                   768 non-null    int64  \n",
      " 2   BloodPressure             768 non-null    int64  \n",
      " 3   SkinThickness             768 non-null    int64  \n",
      " 4   Insulin                   768 non-null    int64  \n",
      " 5   BMI                       768 non-null    float64\n",
      " 6   DiabetesPedigreeFunction  768 non-null    float64\n",
      " 7   Age                       768 non-null    int64  \n",
      " 8   Outcome                   768 non-null    int64  \n",
      "dtypes: float64(2), int64(7)\n",
      "memory usage: 54.1 KB\n"
     ]
    }
   ],
   "source": [
    "# You can get more details about the dataset.\n",
    "pima_df.info()"
   ]
  },
  {
   "cell_type": "markdown",
   "id": "fallen-hunger",
   "metadata": {},
   "source": [
    "- Our dataframe has 768 'non-null' entries of type 'int64' and 'float64'.\n",
    "- We do not have 'string' entries.\n",
    "- We also do not have NaN or Null entries."
   ]
  },
  {
   "cell_type": "code",
   "execution_count": 12,
   "id": "corrected-eclipse",
   "metadata": {},
   "outputs": [
    {
     "data": {
      "text/html": [
       "<div>\n",
       "<style scoped>\n",
       "    .dataframe tbody tr th:only-of-type {\n",
       "        vertical-align: middle;\n",
       "    }\n",
       "\n",
       "    .dataframe tbody tr th {\n",
       "        vertical-align: top;\n",
       "    }\n",
       "\n",
       "    .dataframe thead th {\n",
       "        text-align: right;\n",
       "    }\n",
       "</style>\n",
       "<table border=\"1\" class=\"dataframe\">\n",
       "  <thead>\n",
       "    <tr style=\"text-align: right;\">\n",
       "      <th></th>\n",
       "      <th>Preg</th>\n",
       "      <th>Glucose</th>\n",
       "      <th>BP</th>\n",
       "      <th>Skin</th>\n",
       "      <th>Insulin</th>\n",
       "      <th>BMI</th>\n",
       "      <th>DPF</th>\n",
       "      <th>Age</th>\n",
       "      <th>Class</th>\n",
       "    </tr>\n",
       "  </thead>\n",
       "  <tbody>\n",
       "    <tr>\n",
       "      <th>0</th>\n",
       "      <td>6</td>\n",
       "      <td>148</td>\n",
       "      <td>72</td>\n",
       "      <td>35</td>\n",
       "      <td>0</td>\n",
       "      <td>33.6</td>\n",
       "      <td>0.627</td>\n",
       "      <td>50</td>\n",
       "      <td>1</td>\n",
       "    </tr>\n",
       "    <tr>\n",
       "      <th>1</th>\n",
       "      <td>1</td>\n",
       "      <td>85</td>\n",
       "      <td>66</td>\n",
       "      <td>29</td>\n",
       "      <td>0</td>\n",
       "      <td>26.6</td>\n",
       "      <td>0.351</td>\n",
       "      <td>31</td>\n",
       "      <td>0</td>\n",
       "    </tr>\n",
       "    <tr>\n",
       "      <th>2</th>\n",
       "      <td>8</td>\n",
       "      <td>183</td>\n",
       "      <td>64</td>\n",
       "      <td>0</td>\n",
       "      <td>0</td>\n",
       "      <td>23.3</td>\n",
       "      <td>0.672</td>\n",
       "      <td>32</td>\n",
       "      <td>1</td>\n",
       "    </tr>\n",
       "    <tr>\n",
       "      <th>3</th>\n",
       "      <td>1</td>\n",
       "      <td>89</td>\n",
       "      <td>66</td>\n",
       "      <td>23</td>\n",
       "      <td>94</td>\n",
       "      <td>28.1</td>\n",
       "      <td>0.167</td>\n",
       "      <td>21</td>\n",
       "      <td>0</td>\n",
       "    </tr>\n",
       "    <tr>\n",
       "      <th>4</th>\n",
       "      <td>0</td>\n",
       "      <td>137</td>\n",
       "      <td>40</td>\n",
       "      <td>35</td>\n",
       "      <td>168</td>\n",
       "      <td>43.1</td>\n",
       "      <td>2.288</td>\n",
       "      <td>33</td>\n",
       "      <td>1</td>\n",
       "    </tr>\n",
       "  </tbody>\n",
       "</table>\n",
       "</div>"
      ],
      "text/plain": [
       "   Preg  Glucose  BP  Skin  Insulin   BMI    DPF  Age  Class\n",
       "0     6      148  72    35        0  33.6  0.627   50      1\n",
       "1     1       85  66    29        0  26.6  0.351   31      0\n",
       "2     8      183  64     0        0  23.3  0.672   32      1\n",
       "3     1       89  66    23       94  28.1  0.167   21      0\n",
       "4     0      137  40    35      168  43.1  2.288   33      1"
      ]
     },
     "execution_count": 12,
     "metadata": {},
     "output_type": "execute_result"
    }
   ],
   "source": [
    "# Re-name the columns for convenience\n",
    "pima_df.rename(columns = {'Pregnancies':'Preg', 'BloodPressure':'BP', 'SkinThickness':'Skin', 'DiabetesPedigreeFunction':'DPF', 'Outcome':'Class'}, inplace = True)\n",
    "pima_df.head()"
   ]
  },
  {
   "cell_type": "code",
   "execution_count": 13,
   "id": "korean-procedure",
   "metadata": {},
   "outputs": [
    {
     "data": {
      "text/plain": [
       "0    500\n",
       "1    268\n",
       "Name: Class, dtype: int64"
      ]
     },
     "execution_count": 13,
     "metadata": {},
     "output_type": "execute_result"
    }
   ],
   "source": [
    "# Check 'Class' distributions.\n",
    "pima_df['Class'].value_counts()"
   ]
  },
  {
   "cell_type": "markdown",
   "id": "piano-homeless",
   "metadata": {},
   "source": [
    "- Checking classes helps us verify if our dataset is 'balance'.\n",
    "- Clearly, ours is not as there are 500 Class 0 and 268 Class 1 entries.\n",
    "- It is generally good practise to balance the dataset before building models using the data.\n",
    "- We will use a simple balancing technique.\n",
    "- We can upsample to increase the 'minority' class samples to equal the 'majority' class.\n",
    "- You can also downsample the 'majority' class by reducing its sample size to match the 'minority' class.\n",
    "- In data science, we prefer bigger sample size and so it is recommended to upsample."
   ]
  },
  {
   "cell_type": "code",
   "execution_count": 14,
   "id": "analyzed-classroom",
   "metadata": {},
   "outputs": [
    {
     "data": {
      "image/png": "[encoded data removed]",
      "text/plain": [
       "<Figure size 576x576 with 1 Axes>"
      ]
     },
     "metadata": {
      "needs_background": "light"
     },
     "output_type": "display_data"
    }
   ],
   "source": [
    "# Visually check the class distributions\n",
    "labels, counts = np.unique(pima_df['Class'], return_counts = True)\n",
    "colors = ['r', 'b']\n",
    "plt.figure(figsize = (8, 8))\n",
    "plt.bar(labels, counts, color = colors)\n",
    "plt.gca().set_xticks(labels)\n",
    "plt.xlabel('Class', fontsize = 15)\n",
    "plt.ylabel('Count', fontsize = 15)\n",
    "plt.title('Class distribution in the Pima Indians original dataset', fontsize = 15)\n",
    "plt.grid()\n",
    "plt.show()"
   ]
  },
  {
   "cell_type": "markdown",
   "id": "transparent-italic",
   "metadata": {},
   "source": [
    "<b>Upsampling</b>\n",
    "- Now let's do some upsampling to balance our dataset.\n",
    "- Use the sklearn library 'resample'"
   ]
  },
  {
   "cell_type": "code",
   "execution_count": 15,
   "id": "frank-mileage",
   "metadata": {},
   "outputs": [],
   "source": [
    "pima_majority = pima_df[pima_df.Class == 0]\n",
    "pima_minority = pima_df[pima_df.Class == 1]"
   ]
  },
  {
   "cell_type": "code",
   "execution_count": 16,
   "id": "junior-spine",
   "metadata": {},
   "outputs": [
    {
     "data": {
      "text/plain": [
       "0    500\n",
       "1    500\n",
       "Name: Class, dtype: int64"
      ]
     },
     "execution_count": 16,
     "metadata": {},
     "output_type": "execute_result"
    }
   ],
   "source": [
    "# Perform the upsampling and create a new balanced dataframe.\n",
    "from sklearn.utils import resample # Library for resampling.\n",
    "pima_upsampled = resample(pima_minority, replace = True, n_samples = 500, random_state = 1)\n",
    "\n",
    "pima_df_upsampled = pd.concat([pima_majority, pima_upsampled]) # Concatenate the two lists.\n",
    "pima_df_upsampled.Class.value_counts() # Check the new dataframe for balance."
   ]
  },
  {
   "cell_type": "code",
   "execution_count": 17,
   "id": "joined-municipality",
   "metadata": {},
   "outputs": [
    {
     "data": {
      "image/png": "[encoded data removed]",
      "text/plain": [
       "<Figure size 576x576 with 1 Axes>"
      ]
     },
     "metadata": {
      "needs_background": "light"
     },
     "output_type": "display_data"
    }
   ],
   "source": [
    "# Visually inspect the changes.\n",
    "# Visually check the class distributions\n",
    "labels, counts = np.unique(pima_df_upsampled['Class'], return_counts = True)\n",
    "colors = ['r', 'b']\n",
    "plt.figure(figsize = (8, 8))\n",
    "plt.bar(labels, counts, color = colors)\n",
    "plt.gca().set_xticks(labels)\n",
    "plt.xlabel('Class', fontsize = 15)\n",
    "plt.ylabel('Count', fontsize = 15)\n",
    "plt.title('Class distribution in the upsampled Pima Indians original dataset', fontsize = 15)\n",
    "plt.grid()\n",
    "plt.show()"
   ]
  },
  {
   "cell_type": "code",
   "execution_count": 18,
   "id": "reverse-chest",
   "metadata": {},
   "outputs": [
    {
     "data": {
      "text/html": [
       "<div>\n",
       "<style scoped>\n",
       "    .dataframe tbody tr th:only-of-type {\n",
       "        vertical-align: middle;\n",
       "    }\n",
       "\n",
       "    .dataframe tbody tr th {\n",
       "        vertical-align: top;\n",
       "    }\n",
       "\n",
       "    .dataframe thead th {\n",
       "        text-align: right;\n",
       "    }\n",
       "</style>\n",
       "<table border=\"1\" class=\"dataframe\">\n",
       "  <thead>\n",
       "    <tr style=\"text-align: right;\">\n",
       "      <th></th>\n",
       "      <th>Preg</th>\n",
       "      <th>Glucose</th>\n",
       "      <th>BP</th>\n",
       "      <th>Skin</th>\n",
       "      <th>Insulin</th>\n",
       "      <th>BMI</th>\n",
       "      <th>DPF</th>\n",
       "      <th>Age</th>\n",
       "      <th>Class</th>\n",
       "    </tr>\n",
       "  </thead>\n",
       "  <tbody>\n",
       "    <tr>\n",
       "      <th>count</th>\n",
       "      <td>1000.000000</td>\n",
       "      <td>1000.000000</td>\n",
       "      <td>1000.000000</td>\n",
       "      <td>1000.000000</td>\n",
       "      <td>1000.000000</td>\n",
       "      <td>1000.000000</td>\n",
       "      <td>1000.000000</td>\n",
       "      <td>1000.000000</td>\n",
       "      <td>1000.00000</td>\n",
       "    </tr>\n",
       "    <tr>\n",
       "      <th>mean</th>\n",
       "      <td>4.009000</td>\n",
       "      <td>125.108000</td>\n",
       "      <td>69.455000</td>\n",
       "      <td>20.651000</td>\n",
       "      <td>82.540000</td>\n",
       "      <td>32.853800</td>\n",
       "      <td>0.486708</td>\n",
       "      <td>33.797000</td>\n",
       "      <td>0.50000</td>\n",
       "    </tr>\n",
       "    <tr>\n",
       "      <th>std</th>\n",
       "      <td>3.491004</td>\n",
       "      <td>33.270817</td>\n",
       "      <td>20.407019</td>\n",
       "      <td>16.591217</td>\n",
       "      <td>118.334363</td>\n",
       "      <td>7.848716</td>\n",
       "      <td>0.338446</td>\n",
       "      <td>11.416748</td>\n",
       "      <td>0.50025</td>\n",
       "    </tr>\n",
       "    <tr>\n",
       "      <th>min</th>\n",
       "      <td>0.000000</td>\n",
       "      <td>0.000000</td>\n",
       "      <td>0.000000</td>\n",
       "      <td>0.000000</td>\n",
       "      <td>0.000000</td>\n",
       "      <td>0.000000</td>\n",
       "      <td>0.078000</td>\n",
       "      <td>21.000000</td>\n",
       "      <td>0.00000</td>\n",
       "    </tr>\n",
       "    <tr>\n",
       "      <th>25%</th>\n",
       "      <td>1.000000</td>\n",
       "      <td>102.000000</td>\n",
       "      <td>64.000000</td>\n",
       "      <td>0.000000</td>\n",
       "      <td>0.000000</td>\n",
       "      <td>28.000000</td>\n",
       "      <td>0.249000</td>\n",
       "      <td>24.750000</td>\n",
       "      <td>0.00000</td>\n",
       "    </tr>\n",
       "    <tr>\n",
       "      <th>50%</th>\n",
       "      <td>3.000000</td>\n",
       "      <td>121.000000</td>\n",
       "      <td>72.000000</td>\n",
       "      <td>23.000000</td>\n",
       "      <td>7.000000</td>\n",
       "      <td>32.800000</td>\n",
       "      <td>0.379000</td>\n",
       "      <td>31.000000</td>\n",
       "      <td>0.50000</td>\n",
       "    </tr>\n",
       "    <tr>\n",
       "      <th>75%</th>\n",
       "      <td>6.000000</td>\n",
       "      <td>146.000000</td>\n",
       "      <td>80.000000</td>\n",
       "      <td>33.000000</td>\n",
       "      <td>140.000000</td>\n",
       "      <td>37.400000</td>\n",
       "      <td>0.652000</td>\n",
       "      <td>41.000000</td>\n",
       "      <td>1.00000</td>\n",
       "    </tr>\n",
       "    <tr>\n",
       "      <th>max</th>\n",
       "      <td>17.000000</td>\n",
       "      <td>199.000000</td>\n",
       "      <td>122.000000</td>\n",
       "      <td>99.000000</td>\n",
       "      <td>846.000000</td>\n",
       "      <td>67.100000</td>\n",
       "      <td>2.420000</td>\n",
       "      <td>81.000000</td>\n",
       "      <td>1.00000</td>\n",
       "    </tr>\n",
       "  </tbody>\n",
       "</table>\n",
       "</div>"
      ],
      "text/plain": [
       "              Preg      Glucose           BP         Skin      Insulin  \\\n",
       "count  1000.000000  1000.000000  1000.000000  1000.000000  1000.000000   \n",
       "mean      4.009000   125.108000    69.455000    20.651000    82.540000   \n",
       "std       3.491004    33.270817    20.407019    16.591217   118.334363   \n",
       "min       0.000000     0.000000     0.000000     0.000000     0.000000   \n",
       "25%       1.000000   102.000000    64.000000     0.000000     0.000000   \n",
       "50%       3.000000   121.000000    72.000000    23.000000     7.000000   \n",
       "75%       6.000000   146.000000    80.000000    33.000000   140.000000   \n",
       "max      17.000000   199.000000   122.000000    99.000000   846.000000   \n",
       "\n",
       "               BMI          DPF          Age       Class  \n",
       "count  1000.000000  1000.000000  1000.000000  1000.00000  \n",
       "mean     32.853800     0.486708    33.797000     0.50000  \n",
       "std       7.848716     0.338446    11.416748     0.50025  \n",
       "min       0.000000     0.078000    21.000000     0.00000  \n",
       "25%      28.000000     0.249000    24.750000     0.00000  \n",
       "50%      32.800000     0.379000    31.000000     0.50000  \n",
       "75%      37.400000     0.652000    41.000000     1.00000  \n",
       "max      67.100000     2.420000    81.000000     1.00000  "
      ]
     },
     "execution_count": 18,
     "metadata": {},
     "output_type": "execute_result"
    }
   ],
   "source": [
    "pima_df_upsampled.describe()"
   ]
  },
  {
   "cell_type": "markdown",
   "id": "acting-charles",
   "metadata": {},
   "source": [
    "- We now have a total of 1000 entries.\n",
    "- The number of samples in our dataframe has increased and we have a balanced dataset.\n",
    "- Let's continue with our Exploratory Data Analysis (EDA) by visualizing the data."
   ]
  },
  {
   "cell_type": "code",
   "execution_count": 19,
   "id": "advanced-metabolism",
   "metadata": {},
   "outputs": [
    {
     "data": {
      "image/png": "[encoded data removed]",
      "text/plain": [
       "<Figure size 1440x1080 with 9 Axes>"
      ]
     },
     "metadata": {
      "needs_background": "light"
     },
     "output_type": "display_data"
    }
   ],
   "source": [
    "# Using density plots (kde) on the attributes to visualize the distribution of each attribute.\n",
    "pima_df_upsampled.plot(kind='density', subplots=True, layout=(3,3), figsize=(20, 15), sharex=False, fontsize = 12)\n",
    "plt.show()"
   ]
  },
  {
   "cell_type": "markdown",
   "id": "formal-habitat",
   "metadata": {},
   "source": [
    "- Only the BMI profile shows a clear 'Bell curve'-the characteristic of a normally distributed variable.\n",
    "- The Class profile shows two distinct peaks representative of the two classes in the dataset.\n",
    "- As stated in the introduction, LR works well if the collinearity between variables is low.\n",
    "- Let's check the Pearson's correlation coeffcients between our attributes."
   ]
  },
  {
   "cell_type": "code",
   "execution_count": 20,
   "id": "indirect-waste",
   "metadata": {},
   "outputs": [
    {
     "data": {
      "text/html": [
       "<div>\n",
       "<style scoped>\n",
       "    .dataframe tbody tr th:only-of-type {\n",
       "        vertical-align: middle;\n",
       "    }\n",
       "\n",
       "    .dataframe tbody tr th {\n",
       "        vertical-align: top;\n",
       "    }\n",
       "\n",
       "    .dataframe thead th {\n",
       "        text-align: right;\n",
       "    }\n",
       "</style>\n",
       "<table border=\"1\" class=\"dataframe\">\n",
       "  <thead>\n",
       "    <tr style=\"text-align: right;\">\n",
       "      <th></th>\n",
       "      <th>Preg</th>\n",
       "      <th>Glucose</th>\n",
       "      <th>BP</th>\n",
       "      <th>Skin</th>\n",
       "      <th>Insulin</th>\n",
       "      <th>BMI</th>\n",
       "      <th>DPF</th>\n",
       "      <th>Age</th>\n",
       "      <th>Class</th>\n",
       "    </tr>\n",
       "  </thead>\n",
       "  <tbody>\n",
       "    <tr>\n",
       "      <th>Preg</th>\n",
       "      <td>1.000000</td>\n",
       "      <td>0.069300</td>\n",
       "      <td>0.162301</td>\n",
       "      <td>-0.097799</td>\n",
       "      <td>-0.086141</td>\n",
       "      <td>0.001279</td>\n",
       "      <td>-0.019582</td>\n",
       "      <td>0.540280</td>\n",
       "      <td>0.203768</td>\n",
       "    </tr>\n",
       "    <tr>\n",
       "      <th>Glucose</th>\n",
       "      <td>0.069300</td>\n",
       "      <td>1.000000</td>\n",
       "      <td>0.119787</td>\n",
       "      <td>0.052757</td>\n",
       "      <td>0.310797</td>\n",
       "      <td>0.220219</td>\n",
       "      <td>0.117241</td>\n",
       "      <td>0.224756</td>\n",
       "      <td>0.454920</td>\n",
       "    </tr>\n",
       "    <tr>\n",
       "      <th>BP</th>\n",
       "      <td>0.162301</td>\n",
       "      <td>0.119787</td>\n",
       "      <td>1.000000</td>\n",
       "      <td>0.220808</td>\n",
       "      <td>0.123184</td>\n",
       "      <td>0.267225</td>\n",
       "      <td>0.024309</td>\n",
       "      <td>0.244566</td>\n",
       "      <td>0.062314</td>\n",
       "    </tr>\n",
       "    <tr>\n",
       "      <th>Skin</th>\n",
       "      <td>-0.097799</td>\n",
       "      <td>0.052757</td>\n",
       "      <td>0.220808</td>\n",
       "      <td>1.000000</td>\n",
       "      <td>0.447355</td>\n",
       "      <td>0.353301</td>\n",
       "      <td>0.177821</td>\n",
       "      <td>-0.096481</td>\n",
       "      <td>0.059519</td>\n",
       "    </tr>\n",
       "    <tr>\n",
       "      <th>Insulin</th>\n",
       "      <td>-0.086141</td>\n",
       "      <td>0.310797</td>\n",
       "      <td>0.123184</td>\n",
       "      <td>0.447355</td>\n",
       "      <td>1.000000</td>\n",
       "      <td>0.162907</td>\n",
       "      <td>0.181610</td>\n",
       "      <td>-0.007164</td>\n",
       "      <td>0.116237</td>\n",
       "    </tr>\n",
       "    <tr>\n",
       "      <th>BMI</th>\n",
       "      <td>0.001279</td>\n",
       "      <td>0.220219</td>\n",
       "      <td>0.267225</td>\n",
       "      <td>0.353301</td>\n",
       "      <td>0.162907</td>\n",
       "      <td>1.000000</td>\n",
       "      <td>0.131615</td>\n",
       "      <td>0.037625</td>\n",
       "      <td>0.325005</td>\n",
       "    </tr>\n",
       "    <tr>\n",
       "      <th>DPF</th>\n",
       "      <td>-0.019582</td>\n",
       "      <td>0.117241</td>\n",
       "      <td>0.024309</td>\n",
       "      <td>0.177821</td>\n",
       "      <td>0.181610</td>\n",
       "      <td>0.131615</td>\n",
       "      <td>1.000000</td>\n",
       "      <td>0.042301</td>\n",
       "      <td>0.168424</td>\n",
       "    </tr>\n",
       "    <tr>\n",
       "      <th>Age</th>\n",
       "      <td>0.540280</td>\n",
       "      <td>0.224756</td>\n",
       "      <td>0.244566</td>\n",
       "      <td>-0.096481</td>\n",
       "      <td>-0.007164</td>\n",
       "      <td>0.037625</td>\n",
       "      <td>0.042301</td>\n",
       "      <td>1.000000</td>\n",
       "      <td>0.228463</td>\n",
       "    </tr>\n",
       "    <tr>\n",
       "      <th>Class</th>\n",
       "      <td>0.203768</td>\n",
       "      <td>0.454920</td>\n",
       "      <td>0.062314</td>\n",
       "      <td>0.059519</td>\n",
       "      <td>0.116237</td>\n",
       "      <td>0.325005</td>\n",
       "      <td>0.168424</td>\n",
       "      <td>0.228463</td>\n",
       "      <td>1.000000</td>\n",
       "    </tr>\n",
       "  </tbody>\n",
       "</table>\n",
       "</div>"
      ],
      "text/plain": [
       "             Preg   Glucose        BP      Skin   Insulin       BMI       DPF  \\\n",
       "Preg     1.000000  0.069300  0.162301 -0.097799 -0.086141  0.001279 -0.019582   \n",
       "Glucose  0.069300  1.000000  0.119787  0.052757  0.310797  0.220219  0.117241   \n",
       "BP       0.162301  0.119787  1.000000  0.220808  0.123184  0.267225  0.024309   \n",
       "Skin    -0.097799  0.052757  0.220808  1.000000  0.447355  0.353301  0.177821   \n",
       "Insulin -0.086141  0.310797  0.123184  0.447355  1.000000  0.162907  0.181610   \n",
       "BMI      0.001279  0.220219  0.267225  0.353301  0.162907  1.000000  0.131615   \n",
       "DPF     -0.019582  0.117241  0.024309  0.177821  0.181610  0.131615  1.000000   \n",
       "Age      0.540280  0.224756  0.244566 -0.096481 -0.007164  0.037625  0.042301   \n",
       "Class    0.203768  0.454920  0.062314  0.059519  0.116237  0.325005  0.168424   \n",
       "\n",
       "              Age     Class  \n",
       "Preg     0.540280  0.203768  \n",
       "Glucose  0.224756  0.454920  \n",
       "BP       0.244566  0.062314  \n",
       "Skin    -0.096481  0.059519  \n",
       "Insulin -0.007164  0.116237  \n",
       "BMI      0.037625  0.325005  \n",
       "DPF      0.042301  0.168424  \n",
       "Age      1.000000  0.228463  \n",
       "Class    0.228463  1.000000  "
      ]
     },
     "execution_count": 20,
     "metadata": {},
     "output_type": "execute_result"
    }
   ],
   "source": [
    "# Correlation coefficient closer to 1 indicate a very high correlation.\n",
    "corr_matrix_pearson = pima_df_upsampled.corr(method='pearson')\n",
    "corr_matrix_pearson"
   ]
  },
  {
   "cell_type": "markdown",
   "id": "small-alexander",
   "metadata": {},
   "source": [
    "- A variable will have coeficient of 1 with itself.\n",
    "- Otherwise, the highest value between different variable is 0.54 which indicates a moderate correlation between the Age and Preg."
   ]
  },
  {
   "cell_type": "code",
   "execution_count": 21,
   "id": "front-repository",
   "metadata": {},
   "outputs": [
    {
     "data": {
      "image/png": "[encoded data removed]",
      "text/plain": [
       "<Figure size 720x720 with 2 Axes>"
      ]
     },
     "metadata": {
      "needs_background": "light"
     },
     "output_type": "display_data"
    }
   ],
   "source": [
    "# Visualize the correlation.\n",
    "plt.figure(figsize = (10, 10))\n",
    "sns.heatmap(corr_matrix_pearson, annot = True, cmap='RdYlGn', cbar_kws={'label': 'Correlation coeficient'})\n",
    "plt.show()"
   ]
  },
  {
   "cell_type": "markdown",
   "id": "italian-single",
   "metadata": {},
   "source": [
    "- LR and Tree based algorithms such as Decision Tree, Random forest and gradient boosting, are not sensitive to the magnitude of variables. \n",
    "- Standardization is unnecessary/optional when fitting these models.\n",
    "- If you opt to standardize apply the standardizer to the train and test data separately.\n",
    "- This mitigates information bleeding from the test data into the train data."
   ]
  },
  {
   "cell_type": "code",
   "execution_count": 22,
   "id": "concerned-heaven",
   "metadata": {},
   "outputs": [],
   "source": [
    "# Split the dataset into features and target variable.\n",
    "\n",
    "X = pima_df_upsampled[pima_df_upsampled.columns[0:8]] # Features\n",
    "\n",
    "y = pima_df_upsampled[pima_df_upsampled.columns[-1]] # Target variable"
   ]
  },
  {
   "cell_type": "code",
   "execution_count": 23,
   "id": "available-intranet",
   "metadata": {},
   "outputs": [
    {
     "data": {
      "text/html": [
       "<div>\n",
       "<style scoped>\n",
       "    .dataframe tbody tr th:only-of-type {\n",
       "        vertical-align: middle;\n",
       "    }\n",
       "\n",
       "    .dataframe tbody tr th {\n",
       "        vertical-align: top;\n",
       "    }\n",
       "\n",
       "    .dataframe thead th {\n",
       "        text-align: right;\n",
       "    }\n",
       "</style>\n",
       "<table border=\"1\" class=\"dataframe\">\n",
       "  <thead>\n",
       "    <tr style=\"text-align: right;\">\n",
       "      <th></th>\n",
       "      <th>Preg</th>\n",
       "      <th>Glucose</th>\n",
       "      <th>BP</th>\n",
       "      <th>Skin</th>\n",
       "      <th>Insulin</th>\n",
       "      <th>BMI</th>\n",
       "      <th>DPF</th>\n",
       "      <th>Age</th>\n",
       "    </tr>\n",
       "  </thead>\n",
       "  <tbody>\n",
       "    <tr>\n",
       "      <th>count</th>\n",
       "      <td>1000.000000</td>\n",
       "      <td>1000.000000</td>\n",
       "      <td>1000.000000</td>\n",
       "      <td>1000.000000</td>\n",
       "      <td>1000.000000</td>\n",
       "      <td>1000.000000</td>\n",
       "      <td>1000.000000</td>\n",
       "      <td>1000.000000</td>\n",
       "    </tr>\n",
       "    <tr>\n",
       "      <th>mean</th>\n",
       "      <td>4.009000</td>\n",
       "      <td>125.108000</td>\n",
       "      <td>69.455000</td>\n",
       "      <td>20.651000</td>\n",
       "      <td>82.540000</td>\n",
       "      <td>32.853800</td>\n",
       "      <td>0.486708</td>\n",
       "      <td>33.797000</td>\n",
       "    </tr>\n",
       "    <tr>\n",
       "      <th>std</th>\n",
       "      <td>3.491004</td>\n",
       "      <td>33.270817</td>\n",
       "      <td>20.407019</td>\n",
       "      <td>16.591217</td>\n",
       "      <td>118.334363</td>\n",
       "      <td>7.848716</td>\n",
       "      <td>0.338446</td>\n",
       "      <td>11.416748</td>\n",
       "    </tr>\n",
       "    <tr>\n",
       "      <th>min</th>\n",
       "      <td>0.000000</td>\n",
       "      <td>0.000000</td>\n",
       "      <td>0.000000</td>\n",
       "      <td>0.000000</td>\n",
       "      <td>0.000000</td>\n",
       "      <td>0.000000</td>\n",
       "      <td>0.078000</td>\n",
       "      <td>21.000000</td>\n",
       "    </tr>\n",
       "    <tr>\n",
       "      <th>25%</th>\n",
       "      <td>1.000000</td>\n",
       "      <td>102.000000</td>\n",
       "      <td>64.000000</td>\n",
       "      <td>0.000000</td>\n",
       "      <td>0.000000</td>\n",
       "      <td>28.000000</td>\n",
       "      <td>0.249000</td>\n",
       "      <td>24.750000</td>\n",
       "    </tr>\n",
       "    <tr>\n",
       "      <th>50%</th>\n",
       "      <td>3.000000</td>\n",
       "      <td>121.000000</td>\n",
       "      <td>72.000000</td>\n",
       "      <td>23.000000</td>\n",
       "      <td>7.000000</td>\n",
       "      <td>32.800000</td>\n",
       "      <td>0.379000</td>\n",
       "      <td>31.000000</td>\n",
       "    </tr>\n",
       "    <tr>\n",
       "      <th>75%</th>\n",
       "      <td>6.000000</td>\n",
       "      <td>146.000000</td>\n",
       "      <td>80.000000</td>\n",
       "      <td>33.000000</td>\n",
       "      <td>140.000000</td>\n",
       "      <td>37.400000</td>\n",
       "      <td>0.652000</td>\n",
       "      <td>41.000000</td>\n",
       "    </tr>\n",
       "    <tr>\n",
       "      <th>max</th>\n",
       "      <td>17.000000</td>\n",
       "      <td>199.000000</td>\n",
       "      <td>122.000000</td>\n",
       "      <td>99.000000</td>\n",
       "      <td>846.000000</td>\n",
       "      <td>67.100000</td>\n",
       "      <td>2.420000</td>\n",
       "      <td>81.000000</td>\n",
       "    </tr>\n",
       "  </tbody>\n",
       "</table>\n",
       "</div>"
      ],
      "text/plain": [
       "              Preg      Glucose           BP         Skin      Insulin  \\\n",
       "count  1000.000000  1000.000000  1000.000000  1000.000000  1000.000000   \n",
       "mean      4.009000   125.108000    69.455000    20.651000    82.540000   \n",
       "std       3.491004    33.270817    20.407019    16.591217   118.334363   \n",
       "min       0.000000     0.000000     0.000000     0.000000     0.000000   \n",
       "25%       1.000000   102.000000    64.000000     0.000000     0.000000   \n",
       "50%       3.000000   121.000000    72.000000    23.000000     7.000000   \n",
       "75%       6.000000   146.000000    80.000000    33.000000   140.000000   \n",
       "max      17.000000   199.000000   122.000000    99.000000   846.000000   \n",
       "\n",
       "               BMI          DPF          Age  \n",
       "count  1000.000000  1000.000000  1000.000000  \n",
       "mean     32.853800     0.486708    33.797000  \n",
       "std       7.848716     0.338446    11.416748  \n",
       "min       0.000000     0.078000    21.000000  \n",
       "25%      28.000000     0.249000    24.750000  \n",
       "50%      32.800000     0.379000    31.000000  \n",
       "75%      37.400000     0.652000    41.000000  \n",
       "max      67.100000     2.420000    81.000000  "
      ]
     },
     "execution_count": 23,
     "metadata": {},
     "output_type": "execute_result"
    }
   ],
   "source": [
    "# Check the features.\n",
    "X.describe()"
   ]
  },
  {
   "cell_type": "code",
   "execution_count": 24,
   "id": "defensive-sending",
   "metadata": {},
   "outputs": [
    {
     "data": {
      "text/plain": [
       "count    1000.00000\n",
       "mean        0.50000\n",
       "std         0.50025\n",
       "min         0.00000\n",
       "25%         0.00000\n",
       "50%         0.50000\n",
       "75%         1.00000\n",
       "max         1.00000\n",
       "Name: Class, dtype: float64"
      ]
     },
     "execution_count": 24,
     "metadata": {},
     "output_type": "execute_result"
    }
   ],
   "source": [
    "# Check the target/label variable.\n",
    "y.describe()"
   ]
  },
  {
   "cell_type": "markdown",
   "id": "hearing-cleaner",
   "metadata": {},
   "source": [
    "<b>Train-test split</b>\n",
    "- We split the dataset into two parts in a ratio of 75:25. \n",
    "- 75% of the data will be used for model training and the other 25% for model testing.\n",
    "- Another common ratio is 67:37.\n",
    "- We also set a random seed to ensure reproduciblity.\n",
    "- Specifying the random seed we ensure we get the same random numbers each time we run the code and in turn the same split of data.\n",
    "- This is vital in obtaining a benchmark we can compare to other machine learning algorithms or the same algorithm with a different configuration.\n",
    "- We can be certain that one algorithm performs better than the other because they would have been trained and tested on exactly the same data.\n",
    "- The train-test split is very fast, simple and is suitable for large datasets with millions of entries.\n",
    "- Its main disadvantage is that it can have a high variance.\n",
    "- This means the differences in the training and test dataset can result in significant differences in the estimate of the accuracy."
   ]
  },
  {
   "cell_type": "code",
   "execution_count": 25,
   "id": "pressed-watson",
   "metadata": {},
   "outputs": [],
   "source": [
    "# Split features (X) and labels (y) into training and testing sets.\n",
    "from sklearn.model_selection import train_test_split\n",
    "X_train,X_test,y_train,y_test=train_test_split(X,y,test_size = 0.25,random_state = 0)"
   ]
  },
  {
   "cell_type": "code",
   "execution_count": 26,
   "id": "affected-effects",
   "metadata": {},
   "outputs": [
    {
     "data": {
      "text/plain": [
       "(750, 8)"
      ]
     },
     "metadata": {},
     "output_type": "display_data"
    },
    {
     "data": {
      "text/plain": [
       "(250, 8)"
      ]
     },
     "metadata": {},
     "output_type": "display_data"
    },
    {
     "data": {
      "text/plain": [
       "(750,)"
      ]
     },
     "metadata": {},
     "output_type": "display_data"
    },
    {
     "data": {
      "text/plain": [
       "(250,)"
      ]
     },
     "metadata": {},
     "output_type": "display_data"
    }
   ],
   "source": [
    "# Check the subset shapes after the split.\n",
    "display(X_train.shape, X_test.shape, y_train.shape, y_test.shape)"
   ]
  },
  {
   "cell_type": "markdown",
   "id": "awful-ethics",
   "metadata": {},
   "source": [
    "<b>Model implementation and evaluation</b>\n",
    "- Now define the model.\n",
    "- Proceed to fit the model and analyze the results. <p>\n",
    "    \n",
    "<b>Principal Component Analysis (PCA)</b>\n",
    "- The goal of a PCA is to identify patterns in data so to identify features relevant to the model building exercise.\n",
    "- PCA aims to detect the correlation between variables.\n",
    "- If a strong correlation between variables exists, the attempt to reduce the dimensionality only makes sense.\n",
    "- Our variables show a moderate correlation (0.54 is the highest) so there is no need to perform PCA.<p>\n",
    "\n",
    "<b>The Classification Report</b>\n",
    "- We can identify the relevant attributes using another method that is statistics-based, the Classification Report.\n",
    "- This displays the precision, recall, F1-score and support for each class in the dataset."
   ]
  },
  {
   "cell_type": "code",
   "execution_count": 27,
   "id": "amino-niagara",
   "metadata": {
    "scrolled": true
   },
   "outputs": [
    {
     "name": "stdout",
     "output_type": "stream",
     "text": [
      "Optimization terminated successfully.\n",
      "         Current function value: 0.632114\n",
      "         Iterations 5\n",
      "                           Logit Regression Results                           \n",
      "==============================================================================\n",
      "Dep. Variable:                  Class   No. Observations:                 1000\n",
      "Model:                          Logit   Df Residuals:                      992\n",
      "Method:                           MLE   Df Model:                            7\n",
      "Date:                Tue, 29 Jun 2021   Pseudo R-squ.:                 0.08805\n",
      "Time:                        12:13:35   Log-Likelihood:                -632.11\n",
      "converged:                       True   LL-Null:                       -693.15\n",
      "Covariance Type:            nonrobust   LLR p-value:                 2.843e-23\n",
      "==============================================================================\n",
      "                 coef    std err          z      P>|z|      [0.025      0.975]\n",
      "------------------------------------------------------------------------------\n",
      "Preg           0.1251      0.024      5.171      0.000       0.078       0.173\n",
      "Glucose        0.0131      0.002      5.849      0.000       0.009       0.017\n",
      "BP            -0.0293      0.004     -6.888      0.000      -0.038      -0.021\n",
      "Skin          -0.0030      0.005     -0.615      0.539      -0.013       0.007\n",
      "Insulin        0.0008      0.001      1.106      0.269      -0.001       0.002\n",
      "BMI            0.0137      0.009      1.490      0.136      -0.004       0.032\n",
      "DPF            0.2958      0.207      1.432      0.152      -0.109       0.701\n",
      "Age           -0.0151      0.007     -2.091      0.037      -0.029      -0.001\n",
      "==============================================================================\n"
     ]
    }
   ],
   "source": [
    "# Import the relevant model.\n",
    "import statsmodels.api as sm\n",
    "# Define the model.\n",
    "logit_model = sm.Logit(y,X)\n",
    "\n",
    "# Fit the model.\n",
    "results = logit_model.fit()\n",
    "# Print the results.\n",
    "print(results.summary())"
   ]
  },
  {
   "cell_type": "markdown",
   "id": "spare-young",
   "metadata": {},
   "source": [
    "- This model can explain about 63% of the variation in dependent variable. \n",
    "- Variables that influence the outcome should have a p-value less than 0.05\n",
    "- To identify the attributes to be eliminated check the table column ' P>|z|'.\n",
    "- Skin, Insulin, BMI, DPF are attributes to be eliminated in the next model. "
   ]
  },
  {
   "cell_type": "code",
   "execution_count": 28,
   "id": "enhanced-presence",
   "metadata": {},
   "outputs": [],
   "source": [
    "X_new = X[['Preg', 'Glucose', 'BP', 'Age']]"
   ]
  },
  {
   "cell_type": "code",
   "execution_count": 29,
   "id": "indoor-supervision",
   "metadata": {},
   "outputs": [
    {
     "name": "stdout",
     "output_type": "stream",
     "text": [
      "<class 'pandas.core.frame.DataFrame'>\n",
      "Int64Index: 1000 entries, 1 to 730\n",
      "Data columns (total 4 columns):\n",
      " #   Column   Non-Null Count  Dtype\n",
      "---  ------   --------------  -----\n",
      " 0   Preg     1000 non-null   int64\n",
      " 1   Glucose  1000 non-null   int64\n",
      " 2   BP       1000 non-null   int64\n",
      " 3   Age      1000 non-null   int64\n",
      "dtypes: int64(4)\n",
      "memory usage: 39.1 KB\n"
     ]
    }
   ],
   "source": [
    "# Verify that the 'irrelevant' columns have been edited out.\n",
    "X_new.info()"
   ]
  },
  {
   "cell_type": "code",
   "execution_count": 30,
   "id": "arctic-exchange",
   "metadata": {},
   "outputs": [
    {
     "name": "stdout",
     "output_type": "stream",
     "text": [
      "Optimization terminated successfully.\n",
      "         Current function value: 0.635324\n",
      "         Iterations 5\n",
      "                           Logit Regression Results                           \n",
      "==============================================================================\n",
      "Dep. Variable:                  Class   No. Observations:                 1000\n",
      "Model:                          Logit   Df Residuals:                      996\n",
      "Method:                           MLE   Df Model:                            3\n",
      "Date:                Tue, 29 Jun 2021   Pseudo R-squ.:                 0.08342\n",
      "Time:                        12:13:35   Log-Likelihood:                -635.32\n",
      "converged:                       True   LL-Null:                       -693.15\n",
      "Covariance Type:            nonrobust   LLR p-value:                 6.681e-25\n",
      "==============================================================================\n",
      "                 coef    std err          z      P>|z|      [0.025      0.975]\n",
      "------------------------------------------------------------------------------\n",
      "Preg           0.1199      0.024      5.023      0.000       0.073       0.167\n",
      "Glucose        0.0157      0.002      8.077      0.000       0.012       0.019\n",
      "BP            -0.0259      0.003     -7.470      0.000      -0.033      -0.019\n",
      "Age           -0.0140      0.007     -1.969      0.049      -0.028   -6.38e-05\n",
      "==============================================================================\n"
     ]
    }
   ],
   "source": [
    "# Define the new model.\n",
    "logit_model_new = sm.Logit(y,X_new)\n",
    "\n",
    "# Fit the model.\n",
    "results_new = logit_model_new.fit()\n",
    "\n",
    "# Print the results.\n",
    "print(results_new.summary())"
   ]
  },
  {
   "cell_type": "markdown",
   "id": "aquatic-glasgow",
   "metadata": {},
   "source": [
    "- The model converged and can explain 63.53% of the variation.\n",
    "- This is a marginal increase from the first model.\n",
    "- The p-values of the remaining variables are all below 0.05 as required.\n",
    "- Despite the modest gain, it is still good practise to perform feature elimination/selection."
   ]
  },
  {
   "cell_type": "code",
   "execution_count": 31,
   "id": "theoretical-superior",
   "metadata": {},
   "outputs": [
    {
     "name": "stdout",
     "output_type": "stream",
     "text": [
      "              precision    recall  f1-score   support\n",
      "\n",
      "           0       0.69      0.76      0.72       500\n",
      "           1       0.73      0.67      0.70       500\n",
      "\n",
      "    accuracy                           0.71      1000\n",
      "   macro avg       0.71      0.71      0.71      1000\n",
      "weighted avg       0.71      0.71      0.71      1000\n",
      "\n"
     ]
    }
   ],
   "source": [
    "# Import libraries\n",
    "from sklearn.linear_model import LogisticRegression\n",
    "from sklearn.metrics import classification_report\n",
    "from sklearn.metrics import confusion_matrix\n",
    "\n",
    "logreg = LogisticRegression(max_iter=1000) # Add some maximum iterations that will allow the model to converge.\n",
    "\n",
    "logreg.fit(X_new, y)\n",
    "\n",
    "# Defining the y_pred variable for the predicting values. \n",
    "y_pred=logreg.predict(X_new)\n",
    "\n",
    "# Calculating the precision of the model\n",
    "print(classification_report(y, y_pred))"
   ]
  },
  {
   "cell_type": "markdown",
   "id": "confirmed-recall",
   "metadata": {},
   "source": [
    "<b>Discussion</b>\n",
    "- The model's classification rate or precision is 71%- which is good accuracy.\n",
    "- The precision is the ratio tp / (tp + fp) where tp is the number of true positives and fp the number of false positives. \n",
    "- The precision is intuitively the ability of the classifier to not label a sample as positive if it is negative.\n",
    "- When our Logistic Regression model predicted patients are going to suffer from diabetes, those patients have diabetes 71% of the time.\n",
    "- The recall is the ratio tp / (tp + fn) where tp is the number of true positives and fn the number of false negatives.\n",
    "- The recall is intuitively the ability of the classifier to find all the positive samples.\n",
    "- If there are patients who have diabetes in the test set and our Logistic Regression model can identify it 71% of the time.\n",
    "- The F-beta score can be interpreted as a weighted harmonic mean of the precision and recall, where an F-beta score reaches its best value at 1 and worst score at 0.\n",
    "- The support is the number of occurrences of each class in y_test. (ref: https://scikit-learn.org/stable/user_guide.html)."
   ]
  },
  {
   "cell_type": "markdown",
   "id": "fixed-arena",
   "metadata": {},
   "source": [
    "<b>Confusion matrix</b>\n",
    "- The confusion matrix indicates the number of cases for which the model is able to accurately predict the outcomes, as well as the number of cases in which the model gives false positive and false negatives.\n",
    "- The correct predictions fall on the diagonal line of the output matrix."
   ]
  },
  {
   "cell_type": "code",
   "execution_count": 32,
   "id": "insured-signature",
   "metadata": {},
   "outputs": [
    {
     "name": "stdout",
     "output_type": "stream",
     "text": [
      "[[379 121]\n",
      " [167 333]]\n"
     ]
    }
   ],
   "source": [
    "confusion_matrix = confusion_matrix(y, y_pred)\n",
    "print(confusion_matrix)"
   ]
  },
  {
   "cell_type": "code",
   "execution_count": 33,
   "id": "resistant-warner",
   "metadata": {},
   "outputs": [
    {
     "data": {
      "image/png": "[encoded data removed]",
      "text/plain": [
       "<Figure size 720x720 with 2 Axes>"
      ]
     },
     "metadata": {
      "needs_background": "light"
     },
     "output_type": "display_data"
    }
   ],
   "source": [
    "# Visualize the confusion matrix.\n",
    "class_names=[0,1] # Name  of classes\n",
    "plt.figure(figsize = (10, 10))\n",
    "tick_marks = np.arange(len(class_names))\n",
    "plt.xticks(tick_marks, class_names)\n",
    "plt.yticks(tick_marks, class_names)\n",
    "# Create heatmap\n",
    "sns.heatmap(pd.DataFrame(confusion_matrix), annot=True, cmap='RdYlGn' , fmt='g')\n",
    "plt.tight_layout()\n",
    "plt.title('Confusion matrix', y=1.1)\n",
    "plt.ylabel('Actual label')\n",
    "plt.xlabel('Predicted label')\n",
    "plt.show()"
   ]
  },
  {
   "cell_type": "markdown",
   "id": "single-collectible",
   "metadata": {},
   "source": [
    "- The confusion matrix shows that 379 + 333 are correct predictions while 121 + 168 are incorrect predictions.\n",
    "- This matches the 71% we obtained from the classification report."
   ]
  },
  {
   "cell_type": "markdown",
   "id": "subtle-shannon",
   "metadata": {},
   "source": [
    "<b>ROC Curve</b>\n",
    "- The Receiver Operating Characteristic (ROC) curve is a plot of the true positive rate against the false positive rate. \n",
    "- The area under the ROC curve (AUC) represents a binary classifier model's ability to discriminate between the two classes.\n",
    "- An area of 1.0 represents a model that makes all predictions perfectly.\n",
    "- If the area is 0.5 the model is as good as random.\n",
    "- It helps visualize the tradeoff between sensitivity (true positive rate) and specificity (true negative rate)."
   ]
  },
  {
   "cell_type": "code",
   "execution_count": 34,
   "id": "fundamental-heavy",
   "metadata": {},
   "outputs": [
    {
     "name": "stdout",
     "output_type": "stream",
     "text": [
      "AUC: 0.83166 (0.01414900703229733)\n"
     ]
    }
   ],
   "source": [
    "from sklearn.model_selection import cross_val_score\n",
    "scoring = 'roc_auc'\n",
    "results_LR = cross_val_score(logreg, X, y, scoring = scoring)\n",
    "print('AUC: {} ({})'.format(results_LR.mean(), results_LR.std()))"
   ]
  },
  {
   "cell_type": "markdown",
   "id": "monetary-apparatus",
   "metadata": {},
   "source": [
    "- The AUC is relatively close to 1 and greater than the 0.5 threshold.\n",
    "- This indicates a good classifier.\n",
    "- At this point we have a classifier with acceptable perfomance.\n",
    "- We can proceed to make predictions."
   ]
  },
  {
   "cell_type": "markdown",
   "id": "bottom-portuguese",
   "metadata": {},
   "source": [
    "<b>Prediction on new, hypothetical data</b>\n",
    "- Let us create an artificial dataset and get the model to predict the classes."
   ]
  },
  {
   "cell_type": "code",
   "execution_count": 35,
   "id": "hispanic-failure",
   "metadata": {},
   "outputs": [
    {
     "name": "stdout",
     "output_type": "stream",
     "text": [
      "New patient data: \n",
      "    Preg  Glucose   BP  Age\n",
      "0     0      102   63   23\n",
      "1     2      123   77   44\n",
      "2     2      100   68   66\n",
      "3     4      140  109   31\n",
      "4     1      157  120   25\n",
      "\n",
      "Predicted classes: \n",
      " [0 0 0 1 1]\n"
     ]
    }
   ],
   "source": [
    "# Predictions on a hypothetical dataset.\n",
    "new_patients = {'Preg': [0, 2, 2, 4, 1],\n",
    "                  'Glucose': [102, 123, 100, 140, 157],\n",
    "                  'BP': [63, 77, 68, 109,120],\n",
    "                'Age': [23,44,66,31,25],\n",
    "                  }\n",
    "\n",
    "pima_df_artificial = pd.DataFrame(new_patients,columns= ['Preg', 'Glucose','BP', 'Age'])\n",
    "y_pred = logreg.predict(pima_df_artificial)\n",
    "\n",
    "print ('New patient data: \\n', pima_df_artificial)\n",
    "print ('\\nPredicted classes: \\n', y_pred)"
   ]
  },
  {
   "cell_type": "markdown",
   "id": "another-favorite",
   "metadata": {},
   "source": [
    "- Our binary logistic regression model is able to classify the new patient data.\n",
    "- Keep in mind that this is a hypothetical dataset so we currently cannot calculate the accuracy-we have no ground truth to work with.\n",
    "- The first three patients will not have diabetes while the last two are predicted to have onset of diabetes."
   ]
  },
  {
   "cell_type": "markdown",
   "id": "returning-typing",
   "metadata": {},
   "source": [
    "<b>Exercise</b>\n",
    "- Now that you are in a position to build your own classifier, try the following:\n",
    "    1. Use downsampling to balance the dataset classes.\n",
    "    2. Proceed to build a binary LR classifier.\n",
    "    3. Measure its performance using the metrics you encountered above.\n",
    "    4. Try to build another binary classifier using a different dataset (check Kaggle for some datasets or any other data source of your choice.)\n",
    "- It is important to take note of the versions of the libraries and other modules you use in your work.\n",
    "- This helps in reproducing the results and also in code refactoring and development should a library be deprecated, etc.\n",
    "- Keep practicing."
   ]
  },
  {
   "cell_type": "code",
   "execution_count": null,
   "id": "trained-cable",
   "metadata": {},
   "outputs": [],
   "source": []
  }
 ],
 "metadata": {
  "kernelspec": {
   "display_name": "Python 3",
   "language": "python",
   "name": "python3"
  },
  "language_info": {
   "codemirror_mode": {
    "name": "ipython",
    "version": 3
   },
   "file_extension": ".py",
   "mimetype": "text/x-python",
   "name": "python",
   "nbconvert_exporter": "python",
   "pygments_lexer": "ipython3",
   "version": "3.8.5"
  }
 },
 "nbformat": 4,
 "nbformat_minor": 5
}
